{
  "nbformat": 4,
  "nbformat_minor": 0,
  "metadata": {
    "colab": {
      "provenance": [],
      "authorship_tag": "ABX9TyPOpNHBhS9jFrxZAdMeUfJi",
      "include_colab_link": true
    },
    "kernelspec": {
      "name": "python3",
      "display_name": "Python 3"
    },
    "language_info": {
      "name": "python"
    }
  },
  "cells": [
    {
      "cell_type": "markdown",
      "metadata": {
        "id": "view-in-github",
        "colab_type": "text"
      },
      "source": [
        "<a href=\"https://colab.research.google.com/github/humbertozanetti/cursomarkdownbasico/blob/main/Notebooks/Curso_basico_Markdown_GitHub.ipynb\" target=\"_parent\"><img src=\"https://colab.research.google.com/assets/colab-badge.svg\" alt=\"Open In Colab\"/></a>"
      ]
    },
    {
      "cell_type": "markdown",
      "source": [
        "# **CURSO BÁSICO SOBRE MARKDOWN**\n",
        "\n",
        "> Prof. Dr. Humberto A. P. Zanetti  \n",
        "> humberto.zanetti@[*etec* ou *fatec*].sp.gov.br\n",
        "\n",
        "---\n",
        "---"
      ],
      "metadata": {
        "id": "7bDaMh7KTPJK"
      }
    },
    {
      "cell_type": "markdown",
      "source": [
        "## Sumário\n",
        "+ O que é a linguagem Markdown?\n",
        "+ Cabeçalhos\n",
        "+ Linhas horizontais\n",
        "+ Parágrafos\n",
        "  - Utilizando caracteres de comando em texto\n",
        "  - Tabulação de textos\n",
        "  - Comentários (invisíveis!)\n",
        "+ Ênfase em textos\n",
        "  - Negrito\n",
        "  - Itálico\n",
        "  - Riscado\n",
        "  - Citação\n",
        "  - Highlights\n",
        "+ Listas\n",
        "  - Não-ordenadas\n",
        "  - Ordenadas\n",
        "  - Lista de tarefas\n",
        "  - Números não sequenciais\n",
        "+ Links\n",
        "  - URLs automáticas\n",
        "  - Usando variáveis\n",
        "  - Âncoras\n",
        "+ Imagens\n",
        "  - Legendas em imagens\n",
        "  - Usando variáveis\n",
        "  - Imagens com links\n",
        "  - Integrando HTML\n",
        "+ Tabelas\n",
        "  - Alinhamentos\n",
        "  - Quebra de linha dentro da célula\n",
        "+ Marcação de bloco de códigos\n",
        "  - Em linha\n",
        "  - Em bloco\n",
        "+ Mais sobre integração com HTML\n",
        "   - Alinhamento de texto\n",
        "   - Cores\n",
        "   - Underline\n",
        "+ Integrando com GitHub\n",
        "  - Highlights\n",
        "  - Superscrito\n",
        "  - Sobrescrito\n",
        "  - Listas de definição\n",
        "  - Notas de rodapé\n",
        "  - Emojis\n",
        "  - Badges\n",
        "+ Alguns truques\n",
        "  - Indentação de texto"
      ],
      "metadata": {
        "id": "rKeHwLBnTx4F"
      }
    },
    {
      "cell_type": "markdown",
      "source": [
        "<a href=\"https://www.markdownguide.org\" target=\"_blank\">Learn Markdown!</a>"
      ],
      "metadata": {
        "id": "v2_Kk0cJajA1"
      }
    },
    {
      "cell_type": "code",
      "source": [],
      "metadata": {
        "id": "BSDwAZgYdb7f"
      },
      "execution_count": null,
      "outputs": []
    }
  ]
}