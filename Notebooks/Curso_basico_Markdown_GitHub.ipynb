{
  "nbformat": 4,
  "nbformat_minor": 0,
  "metadata": {
    "colab": {
      "provenance": [],
      "authorship_tag": "ABX9TyNboC/Kf8lLEwClizwBatF5",
      "include_colab_link": true
    },
    "kernelspec": {
      "name": "python3",
      "display_name": "Python 3"
    },
    "language_info": {
      "name": "python"
    }
  },
  "cells": [
    {
      "cell_type": "markdown",
      "metadata": {
        "id": "view-in-github",
        "colab_type": "text"
      },
      "source": [
        "<a href=\"https://colab.research.google.com/github/humbertozanetti/cursomarkdownbasico/blob/main/Notebooks/Curso_basico_Markdown_GitHub.ipynb\" target=\"_parent\"><img src=\"https://colab.research.google.com/assets/colab-badge.svg\" alt=\"Open In Colab\"/></a>"
      ]
    },
    {
      "cell_type": "markdown",
      "source": [
        "# **CURSO BÁSICO SOBRE MARKDOWN**\n",
        "\n",
        "> Prof. Dr. Humberto A. P. Zanetti  \n",
        "> humberto.zanetti@[*etec* ou *fatec*].sp.gov.br\n",
        "\n",
        "---\n",
        "---"
      ],
      "metadata": {
        "id": "7bDaMh7KTPJK"
      }
    },
    {
      "cell_type": "markdown",
      "source": [
        "## Sumário\n",
        "+ O que é a linguagem Markdown?\n",
        "+ Cabeçalhos\n",
        "+ Linhas horizontais\n",
        "+ Parágrafos\n",
        "+ Ênfase em textos\n",
        "  - Negrito\n",
        "  - Itálico\n",
        "  - Riscado\n",
        "  - Citação\n",
        "  - Highlights\n",
        "+ Listas\n",
        "  - Não-ordenadas\n",
        "  - Ordenadas\n",
        "  - Lista de tarefas\n",
        "+ Links\n",
        "  - Usando variáveis\n",
        "  - Âncoras\n",
        "+ Imagens\n",
        "  - Usando variáveis\n",
        "  - Imagens com links\n",
        "  - Integrando HTML\n",
        "+ Tabelas\n",
        "+ Marcação de bloco de códigos\n",
        "  - Em linha\n",
        "  - Em bloco\n",
        "+ Integrando com GitHub\n",
        "  - Funcionalidades diferentes\n",
        "  - Emojis\n",
        "  - Badges\n"
      ],
      "metadata": {
        "id": "rKeHwLBnTx4F"
      }
    }
  ]
}