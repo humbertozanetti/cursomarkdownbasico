{
  "nbformat": 4,
  "nbformat_minor": 0,
  "metadata": {
    "colab": {
      "provenance": [],
      "authorship_tag": "ABX9TyNxw1ofBZAWQJxqP7QTi74S",
      "include_colab_link": true
    },
    "kernelspec": {
      "name": "python3",
      "display_name": "Python 3"
    },
    "language_info": {
      "name": "python"
    }
  },
  "cells": [
    {
      "cell_type": "markdown",
      "metadata": {
        "id": "view-in-github",
        "colab_type": "text"
      },
      "source": [
        "<a href=\"https://colab.research.google.com/github/humbertozanetti/cursomarkdownbasico/blob/main/Notebooks/Curso_basico_Markdown_GitHub.ipynb\" target=\"_parent\"><img src=\"https://colab.research.google.com/assets/colab-badge.svg\" alt=\"Open In Colab\"/></a>"
      ]
    },
    {
      "cell_type": "markdown",
      "source": [
        "# **CURSO BÁSICO SOBRE MARKDOWN**\n",
        "\n",
        "> Prof. Dr. Humberto A. P. Zanetti  \n",
        "> humberto.zanetti@[*etec* ou *fatec*].sp.gov.br\n",
        "\n",
        "---\n",
        "---"
      ],
      "metadata": {
        "id": "7bDaMh7KTPJK"
      }
    },
    {
      "cell_type": "markdown",
      "source": [
        "## Sumário\n",
        "<a href=\"#oqlm\">Heading IDs</a>\n",
        "+ O que é a linguagem Markdown?\n",
        "   - Onde e para que utilizamos?\n",
        "   - Quais ferramentas podemos usar?\n",
        "+ Cabeçalhos\n",
        "+ Linhas horizontais\n",
        "+ Parágrafos\n",
        "  - Utilizando caracteres de comando em texto\n",
        "  - Tabulação de textos\n",
        "  - Comentários (invisíveis!)\n",
        "  - Indentação de texto\n",
        "+ Ênfase em textos\n",
        "  - Negrito\n",
        "  - Itálico\n",
        "  - Riscado\n",
        "  - Citação\n",
        "  - Highlights\n",
        "+ Listas\n",
        "  - Não-ordenadas\n",
        "  - Ordenadas\n",
        "  - Lista de tarefas\n",
        "  - Números não sequenciais\n",
        "+ Links\n",
        "  - URLs automáticas\n",
        "  - Usando variáveis\n",
        "  - Âncoras\n",
        "+ Imagens\n",
        "  - Legendas em imagens\n",
        "  - Usando variáveis\n",
        "  - Imagens com links\n",
        "  - Integrando HTML\n",
        "+ Vídeos\n",
        "+ Tabelas\n",
        "  - Alinhamentos\n",
        "  - Quebra de linha dentro da célula\n",
        "+ Marcação de bloco de códigos\n",
        "  - Em linha\n",
        "  - Em bloco\n",
        "  - Highlights de linguagem de programação\n",
        "+ Mais sobre integração com HTML\n",
        "   - Alinhamento de texto\n",
        "   - Cores\n",
        "   - Underline\n",
        "   - Target de links\n",
        "+ Funcionalidades adicionais no GitHub\n",
        "  - Highlights\n",
        "  - Superscrito\n",
        "  - Sobrescrito\n",
        "  - Listas de definição\n",
        "  - Notas de rodapé\n",
        "  - Emojis\n",
        "  - Badges\n",
        "+ Referências\n",
        "  "
      ],
      "metadata": {
        "id": "rKeHwLBnTx4F"
      }
    },
    {
      "cell_type": "markdown",
      "source": [
        "## O que é a linguagem Markdown?\n",
        "<span id=\"#oqlm\"><span>\n"
      ],
      "metadata": {
        "id": "YFIOBmxNgmpG"
      }
    },
    {
      "cell_type": "code",
      "source": [],
      "metadata": {
        "id": "NaSCnwi2Rxae"
      },
      "execution_count": null,
      "outputs": []
    }
  ]
}